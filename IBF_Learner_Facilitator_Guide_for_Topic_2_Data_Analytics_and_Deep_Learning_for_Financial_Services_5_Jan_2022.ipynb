{
  "nbformat": 4,
  "nbformat_minor": 0,
  "metadata": {
    "kernelspec": {
      "display_name": "Python 3",
      "language": "python",
      "name": "python3"
    },
    "language_info": {
      "codemirror_mode": {
        "name": "ipython",
        "version": 3
      },
      "file_extension": ".py",
      "mimetype": "text/x-python",
      "name": "python",
      "nbconvert_exporter": "python",
      "pygments_lexer": "ipython3",
      "version": "3.6.5"
    },
    "colab": {
      "name": "IBF Learner/Facilitator Guide for Topic 2 - Data Analytics and Deep Learning for Financial Services 5 Jan 2022 ",
      "provenance": [],
      "collapsed_sections": [
        "9ZdSa2HugEbk",
        "jz0HugqlgEb0",
        "rp5jbizT1qjW",
        "G1dOkMVjgEcR",
        "L2TpPaOmgEcY",
        "-B9V_ginGSC8",
        "W8miFX7bYpmS",
        "ST_YmZ6oYkVS",
        "YbgiJcagYZcL",
        "o1q61KmalJgB",
        "viSiaJyLnzQ3",
        "5515POXngEcl",
        "TLzFdAWwBzDU"
      ]
    }
  },
  "cells": [
    {
      "cell_type": "markdown",
      "metadata": {
        "id": "DuWuy79LtA4U"
      },
      "source": [
        "# Topic 2 - Data Analytics and Visualization with Python"
      ]
    },
    {
      "cell_type": "markdown",
      "metadata": {
        "id": "7ezBm7D7gEZc"
      },
      "source": [
        "## Topic 2.1 Data Preparation\n"
      ]
    },
    {
      "cell_type": "markdown",
      "metadata": {
        "id": "zhIjWR40gVcA"
      },
      "source": [
        "### Install Python Data Analysis Packages"
      ]
    },
    {
      "cell_type": "code",
      "metadata": {
        "id": "hzBEFiJ6gEZd"
      },
      "source": [
        "# These packagss have been pre-installed on Google Colab\n",
        "!pip install numpy\n",
        "!pip install matplotlib\n",
        "!pip install seaborn\n",
        "!pip install pandas\n",
        "!pip install scipy\n",
        "!pip install sklearn\n",
        "!pip install yfinance"
      ],
      "execution_count": null,
      "outputs": []
    },
    {
      "cell_type": "code",
      "metadata": {
        "id": "H5rpHv_FjI70"
      },
      "source": [
        "import numpy as np\n",
        "import matplotlib.pyplot as plt\n",
        "import seaborn as sb\n",
        "import pandas as pd\n",
        "import sklearn\n",
        "import yfinance as yf"
      ],
      "execution_count": null,
      "outputs": []
    },
    {
      "cell_type": "markdown",
      "metadata": {
        "id": "7V8iF4swgZzg"
      },
      "source": [
        "### Series\n",
        "\n",
        "In Python, understanding Series is a natural predecessor to understanding dataframes.<br>\n",
        "Series are indexed data frame with only one data column. It is easier to understand them first before moving to study complex data frames.\n",
        "<br>\n",
        "A series is a one-dimensional labelled 'array-like' object. The labels are nothing but the index of the data. <br>\n",
        "Or <br>\n",
        "A series is a special case of a two-dimensional array, which has only 2 columns- one column is for the index and the other column is for data. "
      ]
    },
    {
      "cell_type": "code",
      "source": [
        "stock_list = ['DBS','Haw Par','Jardine C&C','OCBC','SGX','Singtel','ST Engineering',\\\n",
        "              'Thai Beverage','UOB','Venture','Wilmar','YZJ Shipbldg']\n",
        "mkt_cap =[82.54,2.52,8.39,51.24,10.11,40.29,11.80,16.70,45.14,5.49,26.76,5.20]\n",
        "\n",
        "s = pd.Series(mkt_cap, index=stock_list)\n",
        "print(s)\n",
        "type(s)"
      ],
      "metadata": {
        "id": "Vw0mBcFp6sVn"
      },
      "execution_count": null,
      "outputs": []
    },
    {
      "cell_type": "code",
      "source": [
        "s.plot.barh()"
      ],
      "metadata": {
        "id": "QJHOhdIRDsPY"
      },
      "execution_count": null,
      "outputs": []
    },
    {
      "cell_type": "markdown",
      "source": [
        "##### <span style=\"color:black\">Series.index</span>\n",
        "It is useful to know the range of the index when the series is large."
      ],
      "metadata": {
        "id": "Qap73duOIuAG"
      }
    },
    {
      "cell_type": "code",
      "source": [
        "s.index"
      ],
      "metadata": {
        "id": "TGW7RZb8Is4b"
      },
      "execution_count": null,
      "outputs": []
    },
    {
      "cell_type": "markdown",
      "source": [
        "##### <span style=\"color:black\">Series.values</span>\n",
        "It returns the values of the series."
      ],
      "metadata": {
        "id": "5WrxGLiZJPNg"
      }
    },
    {
      "cell_type": "code",
      "source": [
        "s.values"
      ],
      "metadata": {
        "id": "9NIjuSVZJUvV"
      },
      "execution_count": null,
      "outputs": []
    },
    {
      "cell_type": "markdown",
      "source": [
        "##### <span style=\"color:black\">Series.isnull()</span>\n",
        "We can check for missing values with this method."
      ],
      "metadata": {
        "id": "JlxdDRUcJdHI"
      }
    },
    {
      "cell_type": "code",
      "source": [
        "s['UOB'] ='NaN'\n",
        "s.isnull()"
      ],
      "metadata": {
        "id": "iffkixHaJfZ5"
      },
      "execution_count": null,
      "outputs": []
    },
    {
      "cell_type": "markdown",
      "source": [
        "##### <span style=\"color:black\">Series.dropna()</span>\n",
        "One way to deal with the 'NaN' values is to drop them completely from the series. This method filters out missing data."
      ],
      "metadata": {
        "id": "-CV5mEY_Kkte"
      }
    },
    {
      "cell_type": "code",
      "source": [
        "s.dropna()"
      ],
      "metadata": {
        "id": "NLvq34QUKnDN"
      },
      "execution_count": null,
      "outputs": []
    },
    {
      "cell_type": "markdown",
      "source": [
        "### Activity: Series\n",
        "\n",
        "- Create a Pandas Series for the average buy price with stocks as index\n",
        "- Plot the stock price vs stock list\n"
      ],
      "metadata": {
        "id": "NxqejdyTdad0"
      }
    },
    {
      "cell_type": "code",
      "source": [
        "import pandas as pd\n",
        "import matplotlib.pyplot as plt\n",
        "\n",
        "stock_list = ['DBS','Haw Par','Jardine C&C','OCBC','SGX','Singtel','ST Engineering',\\\n",
        "              'Thai Beverage','UOB','Venture','Wilmar','YZJ Shipbldg']\n",
        "sector = ['Finance','Healthcare','Transport','Finance','Finance','Technology','Technology',\\\n",
        "              'Food','Finance','Finance','Food','Transport']\n",
        "stock_qty = [300,100,200,800,300,3000,1000,1000,300,100,1000,1000]\n",
        "avg_price=[31.23,11.50,20.95,11.39,9.07,2.38,3.78,0.66,26.61,18.68,4.15,1.30]\n",
        "mkt_cap =[82.54,2.52,8.39,51.24,10.11,40.29,11.80,16.70,45.14,5.49,26.76,5.20]\n",
        "\n",
        "s = _____________\n",
        "s.plot.barh()\n",
        "plt.xlabel('stock price')\n"
      ],
      "metadata": {
        "id": "bVWKefkmdZFj"
      },
      "execution_count": null,
      "outputs": []
    },
    {
      "cell_type": "markdown",
      "source": [
        "### Solution: Series"
      ],
      "metadata": {
        "id": "HzOIYoiGeAXs"
      }
    },
    {
      "cell_type": "code",
      "source": [
        "import pandas as pd\n",
        "import matplotlib.pyplot as plt\n",
        "\n",
        "stock_list = ['DBS','Haw Par','Jardine C&C','OCBC','SGX','Singtel','ST Engineering',\\\n",
        "              'Thai Beverage','UOB','Venture','Wilmar','YZJ Shipbldg']\n",
        "sector = ['Finance','Healthcare','Transport','Finance','Finance','Technology','Technology',\\\n",
        "              'Food','Finance','Finance','Food','Transport']\n",
        "stock_qty = [300,100,200,800,300,3000,1000,1000,300,100,1000,1000]\n",
        "avg_price=[31.23,11.50,20.95,11.39,9.07,2.38,3.78,0.66,26.61,18.68,4.15,1.30]\n",
        "mkt_cap =[82.54,2.52,8.39,51.24,10.11,40.29,11.80,16.70,45.14,5.49,26.76,5.20]\n",
        "\n",
        "s = pd.Series(avg_price, index=stock_list)\n",
        "s.plot.barh()\n",
        "plt.xlabel('stock price')"
      ],
      "metadata": {
        "id": "n-wP0lZid-9U"
      },
      "execution_count": null,
      "outputs": []
    },
    {
      "cell_type": "markdown",
      "metadata": {
        "id": "6VI4s6KugEa1"
      },
      "source": [
        "### DataFrame\n",
        "\n",
        "The underlying idea of a dataframe is based on 'spreadsheets'. In other words, dataframes store data in discrete rows and columns, where each column can be named (something that is not possible in Arrays but is possible in Series). There are also multiple columns in a dataframe (as opposed to Series, where there can be only one discrete indexed column)."
      ]
    },
    {
      "cell_type": "code",
      "source": [
        "stock_list = ['DBS','Haw Par','Jardine C&C','OCBC','SGX','Singtel','ST Engineering',\\\n",
        "              'Thai Beverage','UOB','Venture','Wilmar','YZJ Shipbldg']\n",
        "stock_qty = [300,100,200,800,300,3000,1000,1000,300,100,1000,1000]\n",
        "avg_price=[31.23,11.50,20.95,11.39,9.07,2.38,3.78,0.66,26.61,18.68,4.15,1.30]\n",
        "\n",
        "my_portfolio = {\n",
        "    \"stock_name\": stock_list,\n",
        "    \"quantity_owned\": stock_qty,\n",
        "    \"average_buy_price\": avg_price\n",
        "}\n",
        "\n",
        "my_portfolio_df = pd.DataFrame(my_portfolio)\n",
        "my_portfolio_df"
      ],
      "metadata": {
        "id": "v0TnVNuzSgiS"
      },
      "execution_count": null,
      "outputs": []
    },
    {
      "cell_type": "markdown",
      "metadata": {
        "id": "tbM-3JwHgEa5"
      },
      "source": [
        "#### Import CSV Data"
      ]
    },
    {
      "cell_type": "code",
      "metadata": {
        "id": "d6n0myPugEa5"
      },
      "source": [
        "# Import CSV file\n",
        "\n",
        "import numpy as np\n",
        "import pandas as pd\n",
        "\n",
        "stock = pd.read_csv('https://raw.githubusercontent.com/tertiarycourses/datasets/master/DBS.csv')\n",
        "stock.head()"
      ],
      "execution_count": null,
      "outputs": []
    },
    {
      "cell_type": "code",
      "metadata": {
        "id": "EIEw3MzzrCtk"
      },
      "source": [
        "# Preparing Data to visualise\n",
        "stock_close =stock[['Date', 'Open','Close']] \n",
        "stock_close.set_index('Date', inplace=True) \n",
        "\n",
        "# More on this in the upcoming section on 'Pandas'\n",
        "stock_close"
      ],
      "execution_count": null,
      "outputs": []
    },
    {
      "cell_type": "code",
      "metadata": {
        "id": "tHpotVaX9p0y"
      },
      "source": [
        "import matplotlib.pyplot as plt\n",
        "\n",
        "plt.figure(figsize=(14, 5))\n",
        "plt.plot(stock_close)\n",
        "plt.xlabel('Days')\n",
        "plt.ylabel('Close Price')\n",
        "plt.show()"
      ],
      "execution_count": null,
      "outputs": []
    },
    {
      "cell_type": "markdown",
      "source": [
        "#### Import Yahoo Finance Data"
      ],
      "metadata": {
        "id": "NemUNqMRwzrQ"
      }
    },
    {
      "cell_type": "code",
      "metadata": {
        "id": "zZZ3obNlH9fa"
      },
      "source": [
        "# Import Yahoo Finance file\n",
        "start_date = '2017-01-01'\n",
        "end_date = '2021-11-30'\n",
        "ticker = 'D05.SI'\n",
        "stock = yf.download(ticker,start=start_date, end=end_date)\n",
        "stock.tail()"
      ],
      "execution_count": null,
      "outputs": []
    },
    {
      "cell_type": "code",
      "metadata": {
        "id": "F9ty3iKjIFGX"
      },
      "source": [
        "stock_close =stock[['Open','Close']]  \n",
        "stock_close.tail()"
      ],
      "execution_count": null,
      "outputs": []
    },
    {
      "cell_type": "code",
      "source": [
        "import matplotlib.pyplot as plt\n",
        "\n",
        "plt.figure(figsize=(14, 5))\n",
        "plt.plot(stock_close)\n",
        "plt.xlabel('Days')\n",
        "plt.ylabel('Close and Open Price')\n",
        "plt.show()"
      ],
      "metadata": {
        "id": "0PBh8w1pbv4s"
      },
      "execution_count": null,
      "outputs": []
    },
    {
      "cell_type": "markdown",
      "metadata": {
        "id": "YSLwqC1QgEa-"
      },
      "source": [
        "#### Activity: Import Finance Data\n",
        "\n",
        "- Import Singtel stock data from the Yahoo Finance\n",
        "- Plot the Singtel open and close date from 2017-01-01 to 2021-11-31\n"
      ]
    },
    {
      "cell_type": "code",
      "source": [
        "start_date = _______________\n",
        "end_date = _______________\n",
        "ticker = ___________________\n",
        "stock = _____________________\n",
        "stock.tail()"
      ],
      "metadata": {
        "id": "1SvUHk05dld1"
      },
      "execution_count": null,
      "outputs": []
    },
    {
      "cell_type": "code",
      "source": [
        "stock_close = _________________ \n",
        "stock_close.tail()"
      ],
      "metadata": {
        "id": "TXGk2CRFdtDx"
      },
      "execution_count": null,
      "outputs": []
    },
    {
      "cell_type": "code",
      "source": [
        "import matplotlib.pyplot as plt\n",
        "\n",
        "plt.figure(figsize=(14, 5))\n",
        "plt.plot(stock_close)\n",
        "plt.grid(True)\n",
        "plt.xlabel('Days')\n",
        "plt.ylabel('Close and Open Price')\n",
        "plt.show()"
      ],
      "metadata": {
        "id": "PzK17Umkdgw5"
      },
      "execution_count": null,
      "outputs": []
    },
    {
      "cell_type": "markdown",
      "source": [
        "#### Solution: Import Finance Data"
      ],
      "metadata": {
        "id": "lN1etIuneI4f"
      }
    },
    {
      "cell_type": "code",
      "source": [
        "import yfinance as yf\n",
        "\n",
        "start_date = '2017-01-01'\n",
        "end_date = '2021-11-30'\n",
        "ticker = 'Z74.SI'\n",
        "stock = yf.download(ticker,start=start_date, end=end_date)\n",
        "stock.tail()"
      ],
      "metadata": {
        "id": "slM07ZZtePGc"
      },
      "execution_count": null,
      "outputs": []
    },
    {
      "cell_type": "code",
      "source": [
        "stock_close =stock[['Open','Close']]  \n",
        "stock_close.tail()"
      ],
      "metadata": {
        "id": "E2Y6LN-IeSSu"
      },
      "execution_count": null,
      "outputs": []
    },
    {
      "cell_type": "code",
      "source": [
        "import matplotlib.pyplot as plt\n",
        "\n",
        "plt.figure(figsize=(14, 5))\n",
        "plt.plot(stock_close)\n",
        "plt.grid(True)\n",
        "plt.xlabel('Days')\n",
        "plt.ylabel('Close and Open Price')\n",
        "plt.show()"
      ],
      "metadata": {
        "id": "nzAoFpu9eUSk"
      },
      "execution_count": null,
      "outputs": []
    },
    {
      "cell_type": "markdown",
      "source": [
        "### Customize index of the dataframe \n",
        "\n",
        "In the above output, you can see that the 'index' is the default one which starts from 0. One can customize this index."
      ],
      "metadata": {
        "id": "S_YlcOhzeler"
      }
    },
    {
      "cell_type": "code",
      "source": [
        "stock_list = ['DBS','Haw Par','Jardine C&C','OCBC','SGX','Singtel','ST Engineering',\\\n",
        "              'Thai Beverage','UOB','Venture','Wilmar','YZJ Shipbldg']\n",
        "stock_qty = [300,100,200,800,300,3000,1000,1000,300,100,1000,1000]\n",
        "avg_price=[31.23,11.50,20.95,11.39,9.07,2.38,3.78,0.66,26.61,18.68,4.15,1.30]\n",
        "\n",
        "my_portfolio = {\n",
        "    \"quantity_owned\": stock_qty,\n",
        "    \"average_buy_price\": avg_price\n",
        "}\n",
        "\n",
        "my_portfolio_df = pd.DataFrame(my_portfolio,index=stock_list)\n",
        "\n",
        "my_portfolio_df\n"
      ],
      "metadata": {
        "id": "qTcBknGmezIo"
      },
      "execution_count": null,
      "outputs": []
    },
    {
      "cell_type": "markdown",
      "source": [
        "#### Reset Index"
      ],
      "metadata": {
        "id": "1vfisA4C0JsY"
      }
    },
    {
      "cell_type": "code",
      "source": [
        "my_portfolio_df = my_portfolio_df.reset_index()\n",
        "my_portfolio_df"
      ],
      "metadata": {
        "id": "j1-IBQKhyF-W"
      },
      "execution_count": null,
      "outputs": []
    },
    {
      "cell_type": "markdown",
      "source": [
        "#### Rename columns\n",
        " \n",
        "If we want to rename the column names, while dealing with the dataframe we need to use the rename function"
      ],
      "metadata": {
        "id": "dO7DGFENnyPo"
      }
    },
    {
      "cell_type": "code",
      "source": [
        "stock_list = ['DBS','Haw Par','Jardine C&C','OCBC','SGX','Singtel','ST Engineering',\\\n",
        "              'Thai Beverage','UOB','Venture','Wilmar','YZJ Shipbldg']\n",
        "stock_qty = [300,100,200,800,300,3000,1000,1000,300,100,1000,1000]\n",
        "avg_price=[31.23,11.50,20.95,11.39,9.07,2.38,3.78,0.66,26.61,18.68,4.15,1.30]\n",
        "\n",
        "my_portfolio = {\n",
        "    \"quantity_owned\": stock_qty,\n",
        "    \"average_buy_price\": avg_price\n",
        "}\n",
        "\n",
        "my_portfolio_df = pd.DataFrame(my_portfolio,index=stock_list)\n",
        "\n",
        "my_portfolio_df"
      ],
      "metadata": {
        "id": "sNNrm1pj0TGC"
      },
      "execution_count": null,
      "outputs": []
    },
    {
      "cell_type": "code",
      "source": [
        "my_portfolio_df = my_portfolio_df.rename(columns={'quantity_owned':'qty','average_buy_price':'buy_price'})\n",
        "my_portfolio_df"
      ],
      "metadata": {
        "id": "84-OZRQgnvr2"
      },
      "execution_count": null,
      "outputs": []
    },
    {
      "cell_type": "markdown",
      "source": [
        "### Rearrange the columns in a dataframe \n",
        "\n",
        "We can also define or change the order of columns."
      ],
      "metadata": {
        "id": "LMiiuRXshXKu"
      }
    },
    {
      "cell_type": "code",
      "source": [
        "stock_list = ['DBS','Haw Par','Jardine C&C','OCBC','SGX','Singtel','ST Engineering',\\\n",
        "              'Thai Beverage','UOB','Venture','Wilmar','YZJ Shipbldg']\n",
        "stock_qty = [300,100,200,800,300,3000,1000,1000,300,100,1000,1000]\n",
        "avg_price=[31.23,11.50,20.95,11.39,9.07,2.38,3.78,0.66,26.61,18.68,4.15,1.30]\n",
        "\n",
        "my_portfolio = {\n",
        "    \"quantity_owned\": stock_qty,\n",
        "    \"average_buy_price\": avg_price\n",
        "}\n",
        "\n",
        "my_portfolio_df = pd.DataFrame(my_portfolio,columns=[\"average_buy_price\",\"quantity_owned\"],index=stock_list)\n",
        "\n",
        "my_portfolio_df"
      ],
      "metadata": {
        "id": "dxktuWcwhdi9"
      },
      "execution_count": null,
      "outputs": []
    },
    {
      "cell_type": "markdown",
      "metadata": {
        "id": "krqD-p7dgEa8"
      },
      "source": [
        "#### Dataframe Attributes"
      ]
    },
    {
      "cell_type": "code",
      "metadata": {
        "id": "L2qOLrdELSa0"
      },
      "source": [
        "my_portfolio_df.info()"
      ],
      "execution_count": null,
      "outputs": []
    },
    {
      "cell_type": "code",
      "metadata": {
        "id": "zdcvpThcqwmn"
      },
      "source": [
        "my_portfolio_df.shape"
      ],
      "execution_count": null,
      "outputs": []
    },
    {
      "cell_type": "code",
      "metadata": {
        "id": "bMPIfw_Pq5eX"
      },
      "source": [
        "my_portfolio_df.columns"
      ],
      "execution_count": null,
      "outputs": []
    },
    {
      "cell_type": "code",
      "metadata": {
        "id": "IN7zf4lIsXwP"
      },
      "source": [
        "my_portfolio_df.index"
      ],
      "execution_count": null,
      "outputs": []
    },
    {
      "cell_type": "code",
      "metadata": {
        "id": "IvcD2AFjgEa8"
      },
      "source": [
        "my_portfolio_df['average_buy_price'].values"
      ],
      "execution_count": null,
      "outputs": []
    },
    {
      "cell_type": "markdown",
      "metadata": {
        "id": "PyQthkxrgEbE"
      },
      "source": [
        "#### Access a column in a dataframe \n",
        "\n",
        "You can access or retrieve a single or multiple columns by their names or by their location. "
      ]
    },
    {
      "cell_type": "code",
      "source": [
        "my_portfolio_df"
      ],
      "metadata": {
        "id": "9yVtBz7blPiY"
      },
      "execution_count": null,
      "outputs": []
    },
    {
      "cell_type": "code",
      "metadata": {
        "id": "WZdePh6lMb-G"
      },
      "source": [
        "my_portfolio_df[\"quantity_owned\"]"
      ],
      "execution_count": null,
      "outputs": []
    },
    {
      "cell_type": "code",
      "metadata": {
        "id": "EGiaSo1cgEbG"
      },
      "source": [
        "my_portfolio_df.quantity_owned"
      ],
      "execution_count": null,
      "outputs": []
    },
    {
      "cell_type": "code",
      "metadata": {
        "id": "sa0IRnuGgEbF"
      },
      "source": [
        "my_portfolio_df[[\"quantity_owned\",\"average_buy_price\"]]"
      ],
      "execution_count": null,
      "outputs": []
    },
    {
      "cell_type": "markdown",
      "metadata": {
        "id": "7E1s525XgEbL"
      },
      "source": [
        "#### Selecting Row"
      ]
    },
    {
      "cell_type": "code",
      "metadata": {
        "id": "BouqI6IUgEbN"
      },
      "source": [
        "my_portfolio_df.loc['OCBC']"
      ],
      "execution_count": null,
      "outputs": []
    },
    {
      "cell_type": "code",
      "metadata": {
        "id": "thAsYbKDgEbL"
      },
      "source": [
        "my_portfolio_df.iloc[3]"
      ],
      "execution_count": null,
      "outputs": []
    },
    {
      "cell_type": "code",
      "metadata": {
        "id": "RW8axahyD2K3"
      },
      "source": [
        "my_portfolio_df.loc[['DBS','OCBC','UOB']]"
      ],
      "execution_count": null,
      "outputs": []
    },
    {
      "cell_type": "code",
      "metadata": {
        "id": "dydlYm0iEEbc"
      },
      "source": [
        "my_portfolio_df.iloc[[3,5,7]]"
      ],
      "execution_count": null,
      "outputs": []
    },
    {
      "cell_type": "code",
      "source": [
        "my_portfolio_df.iloc[3:7]"
      ],
      "metadata": {
        "id": "BeDqOmP_q754"
      },
      "execution_count": null,
      "outputs": []
    },
    {
      "cell_type": "markdown",
      "source": [
        "#### Activity: Selecting Row and Column\n",
        "\n",
        "- Import the Singtel stock data from Yahoo FInance from 2017 to 2021\n",
        "- Select the Close and Open price from 2021-11-15 to 2021-11-30\n"
      ],
      "metadata": {
        "id": "qGhiwCRgxdpT"
      }
    },
    {
      "cell_type": "code",
      "source": [
        "start_date = '2017-01-01'\n",
        "end_date = '2021-11-30'\n",
        "ticker = 'Z74.SI'\n",
        "stock = yf.download(ticker,start=start_date, end=end_date)\n",
        "\n",
        "stock.loc[___________________]"
      ],
      "metadata": {
        "id": "PbwmnR5YweXE"
      },
      "execution_count": null,
      "outputs": []
    },
    {
      "cell_type": "markdown",
      "source": [
        "#### Solution: Selecting Row and Column"
      ],
      "metadata": {
        "id": "XaL1ETptxs2v"
      }
    },
    {
      "cell_type": "code",
      "source": [
        "start_date = '2017-01-01'\n",
        "end_date = '2021-11-30'\n",
        "ticker = 'Z74.SI'\n",
        "stock = yf.download(ticker,start=start_date, end=end_date)\n",
        "\n",
        "stock.loc['2021-11-15':, ['Close', 'Open']]"
      ],
      "metadata": {
        "id": "TiqW__k7xmiC"
      },
      "execution_count": null,
      "outputs": []
    },
    {
      "cell_type": "markdown",
      "source": [
        "#### Sort a dataframe using a column \n",
        "\n",
        "Sometimes it becomes necessary to sort a stock price dataframe, based on the 'Closing Price'."
      ],
      "metadata": {
        "id": "Pa3mJxonpIvP"
      }
    },
    {
      "cell_type": "code",
      "source": [
        "stock_list = ['DBS','Haw Par','Jardine C&C','OCBC','SGX','Singtel','ST Engineering',\\\n",
        "              'Thai Beverage','UOB','Venture','Wilmar','YZJ Shipbldg']\n",
        "stock_qty = [300,100,200,800,300,3000,1000,1000,300,100,1000,1000]\n",
        "avg_price=[31.23,11.50,20.95,11.39,9.07,2.38,3.78,0.66,26.61,18.68,4.15,1.30]\n",
        "\n",
        "my_portfolio = {\n",
        "    \"quantity_owned\": stock_qty,\n",
        "    \"average_buy_price\": avg_price\n",
        "}\n",
        "\n",
        "my_portfolio_df = pd.DataFrame(my_portfolio,columns=[\"average_buy_price\",\"quantity_owned\"],index=stock_list)"
      ],
      "metadata": {
        "id": "AFkEYSQ-qP3m"
      },
      "execution_count": null,
      "outputs": []
    },
    {
      "cell_type": "code",
      "source": [
        "my_portfolio_df = my_portfolio_df.sort_values(by=\"quantity_owned\", ascending=False)\n",
        "my_portfolio_df"
      ],
      "metadata": {
        "id": "w6UMJfMrpOjB"
      },
      "execution_count": null,
      "outputs": []
    },
    {
      "cell_type": "markdown",
      "source": [
        "#### Activity: Sort Data\n",
        "\n",
        "- Sort the data by market cap \n",
        "- List the top five stocks with highest market cap\n"
      ],
      "metadata": {
        "id": "mEZiiIEgtQlg"
      }
    },
    {
      "cell_type": "code",
      "metadata": {
        "id": "uKzLvpGYOiS2"
      },
      "source": [
        "stock_list = ['DBS','Haw Par','Jardine C&C','OCBC','SGX','Singtel','ST Engineering',\\\n",
        "              'Thai Beverage','UOB','Venture','Wilmar','YZJ Shipbldg']\n",
        "stock_qty = [300,100,200,800,300,3000,1000,1000,300,100,1000,1000]\n",
        "avg_price=[31.23,11.50,20.95,11.39,9.07,2.38,3.78,0.66,26.61,18.68,4.15,1.30]\n",
        "mkt_cap =[82.54,2.52,8.39,51.24,10.11,40.29,11.80,16.70,45.14,5.49,26.76,5.20]\n",
        "\n",
        "my_portfolio = {\n",
        "    \"quantity_owned\": stock_qty,\n",
        "    \"average_buy_price\": avg_price,\n",
        "    'market_cap':mkt_cap\n",
        "}\n",
        "\n",
        "my_portfolio_df = pd.DataFrame(my_portfolio,columns=_______________________,index=stock_list)\n",
        "my_portfolio_df"
      ],
      "execution_count": null,
      "outputs": []
    },
    {
      "cell_type": "code",
      "metadata": {
        "id": "WGfo4H5GCS_J"
      },
      "source": [
        "my_portfolio_df = my_portfolio_df.sort_values(___________________)\n",
        "my_portfolio_df"
      ],
      "execution_count": null,
      "outputs": []
    },
    {
      "cell_type": "code",
      "metadata": {
        "id": "N4NJjk3vC-z7"
      },
      "source": [
        "my_portfolio_df.iloc[_____________]"
      ],
      "execution_count": null,
      "outputs": []
    },
    {
      "cell_type": "markdown",
      "metadata": {
        "id": "ktUTspoOgEbR"
      },
      "source": [
        "#### Solution: Sort Data"
      ]
    },
    {
      "cell_type": "code",
      "metadata": {
        "id": "TaiPid8ogEbR"
      },
      "source": [
        "stock_list = ['DBS','Haw Par','Jardine C&C','OCBC','SGX','Singtel','ST Engineering',\\\n",
        "              'Thai Beverage','UOB','Venture','Wilmar','YZJ Shipbldg']\n",
        "stock_qty = [300,100,200,800,300,3000,1000,1000,300,100,1000,1000]\n",
        "avg_price=[31.23,11.50,20.95,11.39,9.07,2.38,3.78,0.66,26.61,18.68,4.15,1.30]\n",
        "mkt_cap =[82.54,2.52,8.39,51.24,10.11,40.29,11.80,16.70,45.14,5.49,26.76,5.20]\n",
        "\n",
        "my_portfolio = {\n",
        "    \"quantity_owned\": stock_qty,\n",
        "    \"average_buy_price\": avg_price,\n",
        "    'market_cap':mkt_cap\n",
        "}\n",
        "\n",
        "my_portfolio_df = pd.DataFrame(my_portfolio,columns=[\"average_buy_price\",\"quantity_owned\",\"market_cap\"],index=stock_list)\n",
        "my_portfolio_df"
      ],
      "execution_count": null,
      "outputs": []
    },
    {
      "cell_type": "code",
      "source": [
        "my_portfolio_df = my_portfolio_df.sort_values(by=\"market_cap\", ascending=False)\n",
        "my_portfolio_df"
      ],
      "metadata": {
        "id": "52cGUTwTs5yr"
      },
      "execution_count": null,
      "outputs": []
    },
    {
      "cell_type": "code",
      "metadata": {
        "id": "eL5jssLACoKe"
      },
      "source": [
        "my_portfolio_df.iloc[:5]"
      ],
      "execution_count": null,
      "outputs": []
    },
    {
      "cell_type": "markdown",
      "metadata": {
        "id": "QPtyo6FwgEbf"
      },
      "source": [
        "### Filtering Data"
      ]
    },
    {
      "cell_type": "code",
      "metadata": {
        "id": "Q-VD2kuPgEbg"
      },
      "source": [
        "my_portfolio_df[my_portfolio_df['market_cap']>20]"
      ],
      "execution_count": null,
      "outputs": []
    },
    {
      "cell_type": "code",
      "metadata": {
        "id": "v3eUxvoDahFJ"
      },
      "source": [
        "my_portfolio_df[(my_portfolio_df[\"market_cap\"] > 20) & (my_portfolio_df[\"quantity_owned\"] < 1000)]"
      ],
      "execution_count": null,
      "outputs": []
    },
    {
      "cell_type": "code",
      "metadata": {
        "id": "rX5fxXOia5Ye"
      },
      "source": [
        "my_portfolio_df[my_portfolio_df[\"quantity_owned\"] == 1000]"
      ],
      "execution_count": null,
      "outputs": []
    },
    {
      "cell_type": "code",
      "metadata": {
        "id": "UV95VleWbG37"
      },
      "source": [
        "my_portfolio_df.loc[[\"DBS\", \"UOB\"], :]"
      ],
      "execution_count": null,
      "outputs": []
    },
    {
      "cell_type": "markdown",
      "metadata": {
        "id": "8f8Ms-FxgEbh"
      },
      "source": [
        "### Activity: Filtering Data\n",
        "\n",
        "Filter the stock data with the following criteria:\n",
        "market capitalization more than 10\n",
        "stock quantity less than 500\n",
        "stock price is below $10\n"
      ]
    },
    {
      "cell_type": "code",
      "metadata": {
        "id": "VHoW5H6lgEbi"
      },
      "source": [
        "my_portfolio_df[(my_portfolio_df[_________________________]"
      ],
      "execution_count": null,
      "outputs": []
    },
    {
      "cell_type": "markdown",
      "source": [
        "#### Solution: Filtering Data"
      ],
      "metadata": {
        "id": "4knsJRH5vcdz"
      }
    },
    {
      "cell_type": "code",
      "metadata": {
        "id": "byhZzaRFgEbj"
      },
      "source": [
        "my_portfolio_df[(my_portfolio_df[\"market_cap\"] > 10) & (my_portfolio_df[\"quantity_owned\"] < 500) & (my_portfolio_df[\"average_buy_price\"] < 10)]"
      ],
      "execution_count": null,
      "outputs": []
    },
    {
      "cell_type": "markdown",
      "metadata": {
        "id": "9ZdSa2HugEbk"
      },
      "source": [
        "### Data Cleaning"
      ]
    },
    {
      "cell_type": "markdown",
      "metadata": {
        "id": "FJZ3Z8_OgEbk"
      },
      "source": [
        "### DataFrame.isnull()\n",
        "\n",
        "This method returns a Boolean result.<br>\n",
        "<br>\n",
        "It will return 'True' if the data point has a 'NaN' (Not a Number) value. Missing data is represented by a NaN value. "
      ]
    },
    {
      "cell_type": "code",
      "metadata": {
        "id": "Y2Dh8Y4rgEbk"
      },
      "source": [
        "import numpy as np\n",
        "NaN = np.nan\n",
        "\n",
        "stock_list = ['DBS','Haw Par','Jardine C&C','OCBC','SGX','Singtel','ST Engineering',\\\n",
        "              'Thai Beverage','UOB','Venture','Wilmar','YZJ Shipbldg']\n",
        "stock_qty = [300,NaN,200,800,300,3000,1000,NaN,300,100,1000,1000]\n",
        "avg_price=[31.23,11.50,20.95,11.39,9.07,2.38,NaN,0.66,26.61,18.68,NaN,1.30]\n",
        "mkt_cap =[82.54,2.52,8.39,51.24,10.11,40.29,11.80,16.70,45.14,5.49,26.76,5.20]\n",
        "\n",
        "my_portfolio = {\n",
        "    \"quantity_owned\": stock_qty,\n",
        "    \"average_buy_price\": avg_price,\n",
        "    'market_cap':mkt_cap\n",
        "}\n",
        "\n",
        "my_portfolio_df = pd.DataFrame(my_portfolio,columns=[\"average_buy_price\",\"quantity_owned\",\"market_cap\"],index=stock_list)\n",
        "my_portfolio_df"
      ],
      "execution_count": null,
      "outputs": []
    },
    {
      "cell_type": "code",
      "source": [
        "my_portfolio_df.isnull()"
      ],
      "metadata": {
        "id": "jTQfOWAN-KzC"
      },
      "execution_count": null,
      "outputs": []
    },
    {
      "cell_type": "markdown",
      "source": [
        "#### DataFrame.dropna()\n",
        "\n",
        "This method remove the missing data"
      ],
      "metadata": {
        "id": "CaPB06Jf1tn0"
      }
    },
    {
      "cell_type": "code",
      "source": [
        "my_portfolio_df.dropna()"
      ],
      "metadata": {
        "id": "o3ZhxnnK1zJs"
      },
      "execution_count": null,
      "outputs": []
    },
    {
      "cell_type": "markdown",
      "source": [
        "#### DataFrame.fillna()\n",
        "\n",
        "The .fillna() method will fill all the 'NaN' values of the entire dataframe or of the requested columns with a scalar value of your choice. "
      ],
      "metadata": {
        "id": "Q3bqy6zay-37"
      }
    },
    {
      "cell_type": "code",
      "source": [
        "import numpy as np\n",
        "NaN = np.nan\n",
        "\n",
        "stock_list = ['DBS','Haw Par','Jardine C&C','OCBC','SGX','Singtel','ST Engineering',\\\n",
        "              'Thai Beverage','UOB','Venture','Wilmar','YZJ Shipbldg']\n",
        "stock_qty = [300,NaN,200,800,300,3000,1000,NaN,300,100,1000,1000]\n",
        "avg_price=[31.23,11.50,20.95,11.39,9.07,2.38,NaN,0.66,26.61,18.68,NaN,1.30]\n",
        "mkt_cap =[82.54,2.52,8.39,51.24,10.11,40.29,11.80,16.70,45.14,5.49,26.76,5.20]\n",
        "\n",
        "my_portfolio = {\n",
        "    \"quantity_owned\": stock_qty,\n",
        "    \"average_buy_price\": avg_price,\n",
        "    'market_cap':mkt_cap\n",
        "}\n",
        "\n",
        "my_portfolio_df = pd.DataFrame(my_portfolio,columns=[\"average_buy_price\",\"quantity_owned\",\"market_cap\"],index=stock_list)\n",
        "my_portfolio_df"
      ],
      "metadata": {
        "id": "9sewVbgT-pvZ"
      },
      "execution_count": null,
      "outputs": []
    },
    {
      "cell_type": "code",
      "source": [
        "my_portfolio_df.fillna(0)"
      ],
      "metadata": {
        "id": "qI5hWDxXzMHM"
      },
      "execution_count": null,
      "outputs": []
    },
    {
      "cell_type": "code",
      "metadata": {
        "id": "AqoJ4N9UYDAE"
      },
      "source": [
        "my_portfolio_df.fillna(method='pad')"
      ],
      "execution_count": null,
      "outputs": []
    },
    {
      "cell_type": "code",
      "metadata": {
        "id": "_W74ecfugEbp"
      },
      "source": [
        "my_portfolio_df.fillna(method='backfill')"
      ],
      "execution_count": null,
      "outputs": []
    },
    {
      "cell_type": "markdown",
      "metadata": {
        "id": "VKfI8-4G50wi"
      },
      "source": [
        "### Activity: Missing Data\n",
        "\n",
        "- Check for dataframe for missing data \n",
        "- Impute the missing data with 'pad' or 'backfill'\n"
      ]
    },
    {
      "cell_type": "code",
      "source": [
        "NaN = np.nan\n",
        "stock_list = ['DBS','Haw Par','Jardine C&C','OCBC','SGX','Singtel','ST Engineering',\\\n",
        "              'Thai Beverage','UOB','Venture','Wilmar','YZJ Shipbldg']\n",
        "stock_qty = [300,100,200,800,300,3000,1000,1000,300,100,1000,1000]\n",
        "avg_price=[31.23,NaN,20.95,11.39,9.07,2.38,NaN,0.66,26.61,18.68,4.15,1.30]\n",
        "mkt_cap =[82.54,2.52,8.39,51.24,NaN,40.29,11.80,16.70,45.14,5.49,NaN,5.20]\n",
        "\n",
        "my_portfolio = {\n",
        "    \"quantity_owned\": stock_qty,\n",
        "    \"average_buy_price\": avg_price,\n",
        "    'market_cap':mkt_cap\n",
        "}\n",
        "\n",
        "my_portfolio_df = pd.DataFrame(my_portfolio,columns=[\"average_buy_price\",\"quantity_owned\",\"market_cap\"],index=stock_list)\n",
        "my_portfolio_df"
      ],
      "metadata": {
        "id": "mPzF0l1i00K8"
      },
      "execution_count": null,
      "outputs": []
    },
    {
      "cell_type": "code",
      "source": [
        "my_portfolio_df._________________"
      ],
      "metadata": {
        "id": "FLcrsBjZ01wP"
      },
      "execution_count": null,
      "outputs": []
    },
    {
      "cell_type": "code",
      "source": [
        "my_portfolio_df.________________________"
      ],
      "metadata": {
        "id": "zwcLepJt07HE"
      },
      "execution_count": null,
      "outputs": []
    },
    {
      "cell_type": "markdown",
      "source": [
        "### Solution: Missing Data"
      ],
      "metadata": {
        "id": "s22buHE2088K"
      }
    },
    {
      "cell_type": "code",
      "metadata": {
        "id": "vVYwauI_1rg1"
      },
      "source": [
        "NaN = np.nan\n",
        "stock_list = ['DBS','Haw Par','Jardine C&C','OCBC','SGX','Singtel','ST Engineering',\\\n",
        "              'Thai Beverage','UOB','Venture','Wilmar','YZJ Shipbldg']\n",
        "stock_qty = [300,100,200,800,300,3000,1000,1000,300,100,1000,1000]\n",
        "avg_price=[31.23,NaN,20.95,11.39,9.07,2.38,NaN,0.66,26.61,18.68,4.15,1.30]\n",
        "mkt_cap =[82.54,2.52,8.39,51.24,NaN,40.29,11.80,16.70,45.14,5.49,NaN,5.20]\n",
        "\n",
        "my_portfolio = {\n",
        "    \"quantity_owned\": stock_qty,\n",
        "    \"average_buy_price\": avg_price,\n",
        "    'market_cap':mkt_cap\n",
        "}\n",
        "\n",
        "my_portfolio_df = pd.DataFrame(my_portfolio,columns=[\"average_buy_price\",\"quantity_owned\",\"market_cap\"],index=stock_list)\n",
        "my_portfolio_df"
      ],
      "execution_count": null,
      "outputs": []
    },
    {
      "cell_type": "code",
      "metadata": {
        "id": "kho24nHc2v0g"
      },
      "source": [
        "my_portfolio_df.isnull()"
      ],
      "execution_count": null,
      "outputs": []
    },
    {
      "cell_type": "code",
      "metadata": {
        "id": "gLC5Wgts2O_y"
      },
      "source": [
        "my_portfolio_df.fillna(method='backfill')"
      ],
      "execution_count": null,
      "outputs": []
    },
    {
      "cell_type": "markdown",
      "metadata": {
        "id": "wY6zdzqxZ1vh"
      },
      "source": [
        "## Topic 2.2 Data Transformation"
      ]
    },
    {
      "cell_type": "markdown",
      "source": [
        "### Joining Data"
      ],
      "metadata": {
        "id": "toLdZq2WCDpH"
      }
    },
    {
      "cell_type": "markdown",
      "metadata": {
        "id": "qrR8YxldgEb0"
      },
      "source": [
        "#### Concat Data"
      ]
    },
    {
      "cell_type": "code",
      "source": [
        "start_date = '2017-01-01'\n",
        "end_date = '2018-12-31'\n",
        "ticker = 'Z74.SI'\n",
        "stock1 = yf.download(ticker,start=start_date, end=end_date)\n",
        "stock1.tail()"
      ],
      "metadata": {
        "id": "i8iJG2z226lP"
      },
      "execution_count": null,
      "outputs": []
    },
    {
      "cell_type": "code",
      "source": [
        "start_date = '2019-01-01'\n",
        "end_date = '2021-11-30'\n",
        "ticker = 'Z74.SI'\n",
        "stock2 = yf.download(ticker,start=start_date, end=end_date)\n",
        "stock2.tail()"
      ],
      "metadata": {
        "id": "F-sG5bkS3Bwk"
      },
      "execution_count": null,
      "outputs": []
    },
    {
      "cell_type": "code",
      "metadata": {
        "id": "0ZJK443QsjFx"
      },
      "source": [
        "stock3 = pd.concat([stock1,stock2],axis=0)"
      ],
      "execution_count": null,
      "outputs": []
    },
    {
      "cell_type": "code",
      "source": [
        "stock3.head()"
      ],
      "metadata": {
        "id": "Gm6Mq7PZ3aCa"
      },
      "execution_count": null,
      "outputs": []
    },
    {
      "cell_type": "code",
      "source": [
        "stock3.tail()"
      ],
      "metadata": {
        "id": "lmrB3IWW3cY_"
      },
      "execution_count": null,
      "outputs": []
    },
    {
      "cell_type": "markdown",
      "metadata": {
        "id": "jz0HugqlgEb0"
      },
      "source": [
        "#### Append Data"
      ]
    },
    {
      "cell_type": "code",
      "metadata": {
        "id": "e0jr3wVpgEb9"
      },
      "source": [
        "start_date = '2017-01-01'\n",
        "end_date = '2018-12-31'\n",
        "ticker = 'Z74.SI'\n",
        "stock1 = yf.download(ticker,start=start_date, end=end_date)\n",
        "stock1.tail()"
      ],
      "execution_count": null,
      "outputs": []
    },
    {
      "cell_type": "code",
      "source": [
        "start_date = '2020-01-01'\n",
        "end_date = '2021-11-30'\n",
        "ticker = 'D05.SI'\n",
        "stock2 = yf.download(ticker,start=start_date, end=end_date)\n",
        "stock2.tail()"
      ],
      "metadata": {
        "id": "-CmJyvWB5eTm"
      },
      "execution_count": null,
      "outputs": []
    },
    {
      "cell_type": "code",
      "source": [
        "stock3 = stock1.append(stock2)"
      ],
      "metadata": {
        "id": "7KDBvvRF5iBM"
      },
      "execution_count": null,
      "outputs": []
    },
    {
      "cell_type": "code",
      "source": [
        "stock3.head()"
      ],
      "metadata": {
        "id": "8uWogWFO5pFO"
      },
      "execution_count": null,
      "outputs": []
    },
    {
      "cell_type": "code",
      "source": [
        "stock3.tail()"
      ],
      "metadata": {
        "id": "9CJakRYw5r-F"
      },
      "execution_count": null,
      "outputs": []
    },
    {
      "cell_type": "markdown",
      "metadata": {
        "id": "rp5jbizT1qjW"
      },
      "source": [
        "#### Activity: Joining Data\n",
        "\n",
        "- Import the DBS stock data from 2017-01-01 to 2019-12-31\n",
        "- Import another DBS stock data from 2020-01-01 to 2021-11-30\n",
        "- Join the two data sets from 2017-01-01 to 2021-11-30\n",
        "\n"
      ]
    },
    {
      "cell_type": "code",
      "source": [
        "start_date = __________\n",
        "end_date = ________\n",
        "ticker = ___________'\n",
        "stock1 = yf.download(ticker,start=start_date, end=end_date)\n",
        "stock1.tail()"
      ],
      "metadata": {
        "id": "AOFZW5_z4ZXS"
      },
      "execution_count": null,
      "outputs": []
    },
    {
      "cell_type": "code",
      "source": [
        "start_date = __________\n",
        "end_date = ________\n",
        "ticker = ___________'\n",
        "stock2 = yf.download(ticker,start=start_date, end=end_date)\n",
        "stock2.tail()"
      ],
      "metadata": {
        "id": "8_8t0AGX4a8G"
      },
      "execution_count": null,
      "outputs": []
    },
    {
      "cell_type": "code",
      "source": [
        "stock3 = _______________________"
      ],
      "metadata": {
        "id": "tRVUJ4eB4epq"
      },
      "execution_count": null,
      "outputs": []
    },
    {
      "cell_type": "code",
      "source": [
        "stock3.tail()"
      ],
      "metadata": {
        "id": "gUU8gs5n4gcV"
      },
      "execution_count": null,
      "outputs": []
    },
    {
      "cell_type": "code",
      "source": [
        "stock3.head()"
      ],
      "metadata": {
        "id": "ojfT1Gu34iJf"
      },
      "execution_count": null,
      "outputs": []
    },
    {
      "cell_type": "markdown",
      "source": [
        "#### Solution: Joining Data"
      ],
      "metadata": {
        "id": "HJrEHXUl4is7"
      }
    },
    {
      "cell_type": "code",
      "metadata": {
        "id": "wlrIGwcDaRmU"
      },
      "source": [
        "start_date = '2017-01-01'\n",
        "end_date = '2019-12-31'\n",
        "ticker = 'D05.SI'\n",
        "stock1 = yf.download(ticker,start=start_date, end=end_date)\n",
        "stock1.tail()"
      ],
      "execution_count": null,
      "outputs": []
    },
    {
      "cell_type": "code",
      "metadata": {
        "id": "Rd828ic8aoJF"
      },
      "source": [
        "start_date = '2020-01-01'\n",
        "end_date = '2021-11-30'\n",
        "ticker = 'D05.SI'\n",
        "stock2 = yf.download(ticker,start=start_date, end=end_date)\n",
        "stock2.tail()"
      ],
      "execution_count": null,
      "outputs": []
    },
    {
      "cell_type": "code",
      "metadata": {
        "id": "mkSioRJzcKYD"
      },
      "source": [
        "stock3 = pd.concat([stock1,stock2],axis=0)"
      ],
      "execution_count": null,
      "outputs": []
    },
    {
      "cell_type": "code",
      "metadata": {
        "id": "VTPdBSFfc1eh"
      },
      "source": [
        "stock3.tail()"
      ],
      "execution_count": null,
      "outputs": []
    },
    {
      "cell_type": "code",
      "source": [
        "stock3.head()"
      ],
      "metadata": {
        "id": "WIJsh2Jz4Wnx"
      },
      "execution_count": null,
      "outputs": []
    },
    {
      "cell_type": "markdown",
      "metadata": {
        "id": "1Qk0-GRygEcA"
      },
      "source": [
        "#### Merging Data"
      ]
    },
    {
      "cell_type": "code",
      "metadata": {
        "id": "5xEp6QeJgEcB"
      },
      "source": [
        "left = pd.DataFrame({'key': ['K0', 'K1', 'K2', 'K3'],\n",
        "                     'A': ['A0', 'A1', 'A2', 'A3'],\n",
        "                     'B': ['B0', 'B1', 'B2', 'B3']})\n",
        "left"
      ],
      "execution_count": null,
      "outputs": []
    },
    {
      "cell_type": "code",
      "metadata": {
        "id": "OzGGgFa96UDw"
      },
      "source": [
        "right = pd.DataFrame({'key': ['K0', 'K1', 'K2', 'K4'],\n",
        "                      'C': ['C0', 'C1', 'C2', 'C4'],\n",
        "                      'D': ['D0', 'D1', 'D2', 'D4']})\n",
        "right"
      ],
      "execution_count": null,
      "outputs": []
    },
    {
      "cell_type": "code",
      "metadata": {
        "id": "bWJefyWs6evU"
      },
      "source": [
        "result = pd.merge(left, right, on='key')\n",
        "result"
      ],
      "execution_count": null,
      "outputs": []
    },
    {
      "cell_type": "code",
      "metadata": {
        "id": "Aqto-er66klo"
      },
      "source": [
        "result = pd.merge(left, right, on='key',how='inner')\n",
        "result"
      ],
      "execution_count": null,
      "outputs": []
    },
    {
      "cell_type": "code",
      "metadata": {
        "id": "Krzonfx96omW"
      },
      "source": [
        "result = pd.merge(left, right, on='key',how='outer')\n",
        "result"
      ],
      "execution_count": null,
      "outputs": []
    },
    {
      "cell_type": "code",
      "metadata": {
        "id": "tEKbui0M643F"
      },
      "source": [
        "result = pd.merge(left, right, on='key',how='left')\n",
        "result"
      ],
      "execution_count": null,
      "outputs": []
    },
    {
      "cell_type": "code",
      "metadata": {
        "id": "iKPAD2Tj6_Rr"
      },
      "source": [
        "result = pd.merge(left, right, on='key',how='right')\n",
        "result"
      ],
      "execution_count": null,
      "outputs": []
    },
    {
      "cell_type": "markdown",
      "metadata": {
        "id": "U0VtE3NrgEcD"
      },
      "source": [
        "#### Activiity: Merging Data\n",
        "\n",
        "- Import the DBS stock data from 2017-01-01 to 2019-12-31\n",
        "- Import another DBS stock data from 2019-01-01' to 2021-11-30\n",
        "- Merge the two data sets on Date using inner join\n"
      ]
    },
    {
      "cell_type": "code",
      "source": [
        "start_date = '2017-01-01'\n",
        "end_date = '2019-12-31'\n",
        "ticker = 'D05.SI'\n",
        "stock1 = yf.download(ticker,start=start_date, end=end_date)\n",
        "stock1.tail()"
      ],
      "metadata": {
        "id": "bYbr0HPM737L"
      },
      "execution_count": null,
      "outputs": []
    },
    {
      "cell_type": "code",
      "source": [
        "start_date = '2019-01-01'\n",
        "end_date = '2021-11-30'\n",
        "ticker = 'D05.SI'\n",
        "stock2 = yf.download(ticker,start=start_date, end=end_date)\n",
        "stock2.tail()"
      ],
      "metadata": {
        "id": "C_f8R-5975H1"
      },
      "execution_count": null,
      "outputs": []
    },
    {
      "cell_type": "code",
      "source": [
        "stock3 = pd.merge(stock1, stock2, on='Date',how='inner')\n",
        "stock3.head()"
      ],
      "metadata": {
        "id": "2vusbSYs7747"
      },
      "execution_count": null,
      "outputs": []
    },
    {
      "cell_type": "markdown",
      "source": [
        "#### Solution: Merging Data"
      ],
      "metadata": {
        "id": "UhN-bGoy79MN"
      }
    },
    {
      "cell_type": "code",
      "metadata": {
        "id": "kK8TMhXrgEcD"
      },
      "source": [
        "start_date = '2017-01-01'\n",
        "end_date = '2019-12-31'\n",
        "ticker = 'D05.SI'\n",
        "stock1 = yf.download(ticker,start=start_date, end=end_date)\n",
        "stock1.tail()"
      ],
      "execution_count": null,
      "outputs": []
    },
    {
      "cell_type": "code",
      "metadata": {
        "id": "yyxVS2dkgEcE"
      },
      "source": [
        "start_date = '2019-01-01'\n",
        "end_date = '2021-11-30'\n",
        "ticker = 'D05.SI'\n",
        "stock2 = yf.download(ticker,start=start_date, end=end_date)\n",
        "stock2.tail()"
      ],
      "execution_count": null,
      "outputs": []
    },
    {
      "cell_type": "code",
      "source": [
        "stock3 = pd.merge(stock1, stock2, on='Date',how='inner')\n",
        "stock3.head()"
      ],
      "metadata": {
        "id": "6upwPFbm65Ra"
      },
      "execution_count": null,
      "outputs": []
    },
    {
      "cell_type": "markdown",
      "metadata": {
        "id": "WNDTF_GDgEcF"
      },
      "source": [
        "### Grouping Data and Aggregation\n",
        "\n",
        "Any groupby operation involves one of the following operations on the original dataframe/object. They are:\n",
        "<br>\n",
        "1. <b>Splitting</b> the data into groups based on some criteria.<br>\n",
        "<br>\n",
        "2. <b>Applying</b> a function to each group separately.<br>\n",
        "<br>\n",
        "3. <b>Combining</b> the results into a single dataframe.<br>\n",
        "<br>\n",
        "Splitting the data is pretty straight forward. What adds value to this split is the 'Apply' step. This makes 'Groupby' function interesting. In the apply step, you may wish to do one of the following: <br>\n",
        "<br>\n",
        "a. Aggregation − Computing a summary statistic. Eg: Compute group sums or means.<br>\n",
        "<br>\n",
        "b. Transformation − performs some group-specific operation. Eg: Standardizing data (computing z-score) within the group.<br> \n",
        "<br>\n",
        "c. Filtration − discarding the data with some condition.<br> \n",
        "<br>\n",
        "Let us now create a DataFrame object and perform all the operations on it."
      ]
    },
    {
      "cell_type": "code",
      "metadata": {
        "id": "4uoSPWMkAvO2"
      },
      "source": [
        "stock_list = ['DBS','Haw Par','Jardine C&C','OCBC','SGX','Singtel','ST Engineering',\\\n",
        "              'Thai Beverage','UOB','Venture','Wilmar','YZJ Shipbldg']\n",
        "sector = ['Finance','Healthcare','Transport','Finance','Finance','Technology','Technology',\\\n",
        "              'Food','Finance','Finance','Food','Transport']\n",
        "stock_qty = [300,100,200,800,300,3000,1000,1000,300,100,1000,1000]\n",
        "avg_price=[31.23,11.50,20.95,11.39,9.07,2.38,3.78,0.66,26.61,18.68,4.15,1.30]\n",
        "mkt_cap =[82.54,2.52,8.39,51.24,10.11,40.29,11.80,16.70,45.14,5.49,26.76,5.20]\n",
        "position =[\"Buy\",\"Sell\",\"Sell\",\"Sell\",\"Buy\",\"Buy\",\"Buy\",\"Sell\",\"Buy\",\"Sell\",\"Buy\",\"Sell\"]\n",
        "\n",
        "my_portfolio = {\n",
        "    \"quantity_owned\": stock_qty,\n",
        "    \"average_buy_price\": avg_price,\n",
        "    'market_cap':mkt_cap,\n",
        "    'sector':sector,\n",
        "    'position': position\n",
        "}\n",
        "\n",
        "my_portfolio_df = pd.DataFrame(my_portfolio,columns=[\"average_buy_price\",\"quantity_owned\",\"market_cap\",\"sector\",\"position\"],index=stock_list)\n",
        "my_portfolio_df"
      ],
      "execution_count": null,
      "outputs": []
    },
    {
      "cell_type": "code",
      "source": [
        "my_portfolio_df.groupby('sector').count()"
      ],
      "metadata": {
        "id": "kGr4sS0A8RCu"
      },
      "execution_count": null,
      "outputs": []
    },
    {
      "cell_type": "code",
      "metadata": {
        "id": "OSP0-2Wsc7IW"
      },
      "source": [
        "my_portfolio_df.groupby('sector').market_cap.mean()"
      ],
      "execution_count": null,
      "outputs": []
    },
    {
      "cell_type": "code",
      "metadata": {
        "id": "rnDXLTzPA0pj"
      },
      "source": [
        "my_portfolio_df.groupby(['sector','quantity_owned']).mean()"
      ],
      "execution_count": null,
      "outputs": []
    },
    {
      "cell_type": "code",
      "metadata": {
        "id": "OEcoFLbfCMUo"
      },
      "source": [
        "my_portfolio_df.groupby('sector').sum()"
      ],
      "execution_count": null,
      "outputs": []
    },
    {
      "cell_type": "code",
      "metadata": {
        "id": "LmfbBIZBj3Ww"
      },
      "source": [
        "my_portfolio_df.groupby('sector').agg(['count', 'mean','sum'])"
      ],
      "execution_count": null,
      "outputs": []
    },
    {
      "cell_type": "code",
      "metadata": {
        "id": "Epe1nDikjen3"
      },
      "source": [
        "my_portfolio_df.groupby('sector').agg(lambda x:max(x)-min(x))"
      ],
      "execution_count": null,
      "outputs": []
    },
    {
      "cell_type": "markdown",
      "metadata": {
        "id": "I4EUqUAZK9kl"
      },
      "source": [
        "### Activitiy: Groupby\n",
        "\n",
        "Compute the total number of stocks purchased for each sector."
      ]
    },
    {
      "cell_type": "code",
      "source": [
        "my_portfolio_df.groupby(____________)[____________]._____________)"
      ],
      "metadata": {
        "id": "cRpzgLSP_spS"
      },
      "execution_count": null,
      "outputs": []
    },
    {
      "cell_type": "markdown",
      "source": [
        "### Solution: Groupby"
      ],
      "metadata": {
        "id": "WeeiyWtu_xVP"
      }
    },
    {
      "cell_type": "code",
      "metadata": {
        "id": "L2LIQrGveBxp"
      },
      "source": [
        "my_portfolio_df.groupby('sector')['quantity_owned'].sum()"
      ],
      "execution_count": null,
      "outputs": []
    },
    {
      "cell_type": "markdown",
      "metadata": {
        "id": "QsuSAJvUIh6k"
      },
      "source": [
        "#### Pivoting Data"
      ]
    },
    {
      "cell_type": "code",
      "source": [
        "my_portfolio_df.pivot(values=\"quantity_owned\", columns=\"position\")"
      ],
      "metadata": {
        "id": "lV2nZT2Aj3t9"
      },
      "execution_count": null,
      "outputs": []
    },
    {
      "cell_type": "code",
      "metadata": {
        "id": "IknTVeXtMLtS"
      },
      "source": [
        "pd.pivot_table(my_portfolio_df, values=\"quantity_owned\", \\\n",
        "               aggfunc=\"sum\",index=[\"sector\"], columns=[\"position\"])"
      ],
      "execution_count": null,
      "outputs": []
    },
    {
      "cell_type": "markdown",
      "metadata": {
        "id": "FCCuTYPwTRWj"
      },
      "source": [
        "#### Activity: Pivot Table\n",
        "\n",
        "Create a pivot table and compute the average buy price for each sector"
      ]
    },
    {
      "cell_type": "code",
      "source": [
        "pd.pivot_table(_______________________)"
      ],
      "metadata": {
        "id": "VD2nyS74BYVj"
      },
      "execution_count": null,
      "outputs": []
    },
    {
      "cell_type": "markdown",
      "source": [
        "#### Solution: Pivot Table"
      ],
      "metadata": {
        "id": "SBwZxu1EBbPh"
      }
    },
    {
      "cell_type": "code",
      "metadata": {
        "id": "H99uCIMpFhCS"
      },
      "source": [
        "pd.pivot_table(my_portfolio_df, values=\"average_buy_price\", \\\n",
        "               aggfunc=\"mean\",index=[\"sector\"], columns=[\"position\"])"
      ],
      "execution_count": null,
      "outputs": []
    },
    {
      "cell_type": "markdown",
      "metadata": {
        "id": "G1dOkMVjgEcR"
      },
      "source": [
        "## Topic 2.3 Data Visualization \n"
      ]
    },
    {
      "cell_type": "markdown",
      "metadata": {
        "id": "Oo5-hh9wndTS"
      },
      "source": [
        "#### Line Plot"
      ]
    },
    {
      "cell_type": "code",
      "source": [
        "start_date = '2017-01-01'\n",
        "end_date = '2021-11-30'\n",
        "ticker = 'D05.SI'\n",
        "dbs = yf.download(ticker,start=start_date, end=end_date)"
      ],
      "metadata": {
        "id": "PVXnPkDwCDm1"
      },
      "execution_count": null,
      "outputs": []
    },
    {
      "cell_type": "code",
      "metadata": {
        "id": "xPNmPhoVnCjq"
      },
      "source": [
        "dbs['Close'].plot()\n",
        "plt.ylabel('Close Price')"
      ],
      "execution_count": null,
      "outputs": []
    },
    {
      "cell_type": "markdown",
      "metadata": {
        "id": "2uCvKWxPoGSL"
      },
      "source": [
        "#### Activity: Scatter Plot\n",
        "\n",
        "- Download the Singtel and DBS historical stock market price\n",
        "- Create a scatter plot between Singtel and DBS closing stock price.\n"
      ]
    },
    {
      "cell_type": "code",
      "source": [
        "start_date = '2017-01-01'\n",
        "end_date = '2021-11-30'\n",
        "ticker = 'D05.SI'\n",
        "dbs = yf.download(ticker,start=start_date, end=end_date)\n",
        "dbs = dbs['Close']\n",
        "\n",
        "start_date = '2017-01-01'\n",
        "end_date = '2021-11-30'\n",
        "ticker = 'Z74.SI'\n",
        "singtel = yf.download(ticker,start=start_date, end=end_date)\n",
        "singtel = singtel['Close']\n",
        "\n",
        "df = pd.DataFrame(_______________)\n",
        "df.plot.____________________________"
      ],
      "metadata": {
        "id": "JYj-5W5pCo6j"
      },
      "execution_count": null,
      "outputs": []
    },
    {
      "cell_type": "markdown",
      "source": [
        "#### Solution: Scatter Plot"
      ],
      "metadata": {
        "id": "iJUlfl4Fpar4"
      }
    },
    {
      "cell_type": "code",
      "source": [
        "start_date = '2017-01-01'\n",
        "end_date = '2021-11-30'\n",
        "ticker = 'D05.SI'\n",
        "dbs = yf.download(ticker,start=start_date, end=end_date)\n",
        "dbs = dbs['Close']\n",
        "\n",
        "start_date = '2017-01-01'\n",
        "end_date = '2021-11-30'\n",
        "ticker = 'Z74.SI'\n",
        "singtel = yf.download(ticker,start=start_date, end=end_date)\n",
        "singtel = singtel['Close']\n",
        "\n",
        "df = pd.DataFrame({'dbs_stock':dbs,'singtel_stock':singtel})\n",
        "df.plot.scatter(x=\"dbs_stock\", y=\"singtel_stock\",alpha=0.5)"
      ],
      "metadata": {
        "id": "taRNW360pYnK"
      },
      "execution_count": null,
      "outputs": []
    },
    {
      "cell_type": "code",
      "source": [
        "start_date = '2017-01-01'\n",
        "end_date = '2021-11-30'\n",
        "ticker = 'D05.SI'\n",
        "dbs = yf.download(ticker,start=start_date, end=end_date)\n",
        "dbs = dbs['Close']\n",
        "\n",
        "start_date = '2017-01-01'\n",
        "end_date = '2021-11-30'\n",
        "ticker = 'U11.SI'\n",
        "uob = yf.download(ticker,start=start_date, end=end_date)\n",
        "uob = uob['Close']\n",
        "\n",
        "df = pd.DataFrame({'dbs_stock':dbs,'uob_stock':uob})\n",
        "df.plot.scatter(x=\"dbs_stock\", y=\"uob_stock\",alpha=0.5)"
      ],
      "metadata": {
        "id": "2nLPsrd7pGsu"
      },
      "execution_count": null,
      "outputs": []
    },
    {
      "cell_type": "markdown",
      "metadata": {
        "id": "35dULZLRpJrP"
      },
      "source": [
        "#### Bar Plot"
      ]
    },
    {
      "cell_type": "code",
      "source": [
        "data = pd.read_csv('https://raw.githubusercontent.com/tertiarycourses/datasets/master/gst-by-economic-sector.csv')\n",
        "data"
      ],
      "metadata": {
        "id": "7U4qd409VgM5"
      },
      "execution_count": null,
      "outputs": []
    },
    {
      "cell_type": "code",
      "source": [
        "data.groupby('economic_sector')['no_of_businesses'].sum().plot.barh()\n",
        "plt.xlabel('No of Business')"
      ],
      "metadata": {
        "id": "8LHWs494V0MA"
      },
      "execution_count": null,
      "outputs": []
    },
    {
      "cell_type": "markdown",
      "source": [
        "#### Activity: Bar Plot\n",
        "\n",
        "- Import the economic data from https://raw.githubusercontent.com/tertiarycourses/datasets/master/gst-by-economic-sector.csv\n",
        "- Create a bar plot of # of businesses for each year\n"
      ],
      "metadata": {
        "id": "3geB1dZ1Zkec"
      }
    },
    {
      "cell_type": "code",
      "source": [
        "data = pd.read_csv('https://raw.githubusercontent.com/tertiarycourses/datasets/master/gst-by-economic-sector.csv')\n",
        "data.groupby(___________________)\n",
        "plt.xlabel('No of Business')"
      ],
      "metadata": {
        "id": "JlDvZHHGDNit"
      },
      "execution_count": null,
      "outputs": []
    },
    {
      "cell_type": "markdown",
      "source": [
        "#### Solution: Bar Plot"
      ],
      "metadata": {
        "id": "cZcSRLfBZpAH"
      }
    },
    {
      "cell_type": "code",
      "source": [
        "data = pd.read_csv('https://raw.githubusercontent.com/tertiarycourses/datasets/master/gst-by-economic-sector.csv')\n",
        "data.groupby(['financial_year'])['no_of_businesses'].sum().plot.barh()\n",
        "plt.xlabel('No of Business')"
      ],
      "metadata": {
        "id": "iaTwRKUeZtfW"
      },
      "execution_count": null,
      "outputs": []
    },
    {
      "cell_type": "markdown",
      "source": [
        "#### Stacked Bar Plot"
      ],
      "metadata": {
        "id": "pzCMhBMie7ac"
      }
    },
    {
      "cell_type": "code",
      "source": [
        "stock_list = ['DBS','Haw Par','Jardine C&C','OCBC','SGX','Singtel','ST Engineering',\\\n",
        "              'Thai Beverage','UOB','Venture','Wilmar','YZJ Shipbldg']\n",
        "sector = ['Finance','Healthcare','Transport','Finance','Finance','Technology','Technology',\\\n",
        "              'Food','Finance','Finance','Food','Transport']\n",
        "stock_qty = [300,100,200,800,300,3000,1000,1000,300,100,1000,1000]\n",
        "avg_price=[31.23,11.50,20.95,11.39,9.07,2.38,3.78,0.66,26.61,18.68,4.15,1.30]\n",
        "mkt_cap =[82.54,2.52,8.39,51.24,10.11,40.29,11.80,16.70,45.14,5.49,26.76,5.20]\n",
        "position =[\"Buy\",\"Sell\",\"Sell\",\"Sell\",\"Buy\",\"Buy\",\"Buy\",\"Sell\",\"Buy\",\"Sell\",\"Buy\",\"Sell\"]\n",
        "\n",
        "my_portfolio = {\n",
        "    \"quantity_owned\": stock_qty,\n",
        "    \"average_buy_price\": avg_price,\n",
        "    'market_cap':mkt_cap,\n",
        "    'sector':sector,\n",
        "    'position': position\n",
        "}\n",
        "\n",
        "my_portfolio_df = pd.DataFrame(my_portfolio,columns=[\"average_buy_price\",\"quantity_owned\",\"market_cap\",\"sector\",\"position\"],index=stock_list)\n",
        "my_portfolio_df"
      ],
      "metadata": {
        "id": "N01kx2-3clsq"
      },
      "execution_count": null,
      "outputs": []
    },
    {
      "cell_type": "code",
      "source": [
        "pd.pivot_table(my_portfolio_df, values=\"quantity_owned\", \\\n",
        "               aggfunc=\"sum\",index=\"position\",columns=\"sector\").plot.bar()\n",
        "\n",
        "plt.ylabel('stock quality')"
      ],
      "metadata": {
        "id": "5VCxuXkSexbo"
      },
      "execution_count": null,
      "outputs": []
    },
    {
      "cell_type": "code",
      "source": [
        "pd.pivot_table(my_portfolio_df, values=\"quantity_owned\", \\\n",
        "               aggfunc=\"sum\",index=\"position\",columns=\"sector\").plot.bar(stacked=True)\n",
        "\n",
        "plt.ylabel('stock quality')"
      ],
      "metadata": {
        "id": "tiRy40J-cpfw"
      },
      "execution_count": null,
      "outputs": []
    },
    {
      "cell_type": "markdown",
      "metadata": {
        "id": "KXrmndH-AXVm"
      },
      "source": [
        "### Pie Plot"
      ]
    },
    {
      "cell_type": "code",
      "metadata": {
        "id": "YbKPBpubAKXr"
      },
      "source": [
        "data = pd.read_csv('https://raw.githubusercontent.com/tertiarycourses/datasets/master/gst-by-economic-sector.csv')\n",
        "\n",
        "plt.figure(figsize=(10,10))\n",
        "data.groupby(['economic_sector'])['no_of_businesses'].sum().plot.pie()\n",
        "plt.ylabel('')"
      ],
      "execution_count": null,
      "outputs": []
    },
    {
      "cell_type": "markdown",
      "metadata": {
        "id": "Wi8T2GV-8YJ1"
      },
      "source": [
        "### Boxplot"
      ]
    },
    {
      "cell_type": "code",
      "metadata": {
        "id": "ZSHONUAzgEcX"
      },
      "source": [
        "my_portfolio_df.pivot(columns='sector',values='average_buy_price').plot.box()"
      ],
      "execution_count": null,
      "outputs": []
    },
    {
      "cell_type": "markdown",
      "metadata": {
        "id": "8LqNNWR8_3DJ"
      },
      "source": [
        "### Area Plot"
      ]
    },
    {
      "cell_type": "code",
      "metadata": {
        "id": "mniu6MsH_sf9"
      },
      "source": [
        "pd.pivot_table(my_portfolio_df, values=\"average_buy_price\", \\\n",
        "               aggfunc=\"mean\",index=\"sector\",columns=\"position\").plot.area()"
      ],
      "execution_count": null,
      "outputs": []
    },
    {
      "cell_type": "markdown",
      "metadata": {
        "id": "VH1TUqLC8boj"
      },
      "source": [
        "### Histogram"
      ]
    },
    {
      "cell_type": "code",
      "metadata": {
        "id": "croK8jpc4z0Y"
      },
      "source": [
        "start_date = '2017-01-01'\n",
        "end_date = '2021-11-30'\n",
        "ticker = 'D05.SI'\n",
        "dbs = yf.download(ticker,start=start_date, end=end_date)\n",
        "dbs.Close.plot.hist(bins=25)\n",
        "plt.xlabel('Stock Price')"
      ],
      "execution_count": null,
      "outputs": []
    },
    {
      "cell_type": "markdown",
      "metadata": {
        "id": "-WNvXsgO6Eva"
      },
      "source": [
        "### Activity: Histogram\n",
        "\n",
        "- Download the Singtel historical stock price from Yahoo Finance.\n",
        "- Plot a histogram of Singtel Close stock price\n"
      ]
    },
    {
      "cell_type": "code",
      "metadata": {
        "id": "2XCEhmlv5yzh"
      },
      "source": [
        "start_date = '2017-01-01'\n",
        "end_date = '2021-11-30'\n",
        "ticker = 'Z74.SI'\n",
        "singtel = yf.download(ticker,start=start_date, end=end_date)\n",
        "singtel.____________________________\n",
        "plt.xlabel('Stock Price')"
      ],
      "execution_count": null,
      "outputs": []
    },
    {
      "cell_type": "markdown",
      "source": [
        "### Solution: Histogram"
      ],
      "metadata": {
        "id": "yrx8DwvdqXok"
      }
    },
    {
      "cell_type": "code",
      "source": [
        "start_date = '2017-01-01'\n",
        "end_date = '2021-11-30'\n",
        "ticker = 'Z74.SI'\n",
        "singtel = yf.download(ticker,start=start_date, end=end_date)\n",
        "singtel.Close.plot.hist(bins=25)\n",
        "plt.xlabel('Stock Price')"
      ],
      "metadata": {
        "id": "3VXDkefUqV3U"
      },
      "execution_count": null,
      "outputs": []
    },
    {
      "cell_type": "markdown",
      "metadata": {
        "id": "L2TpPaOmgEcY"
      },
      "source": [
        "## Topic 2.4 Data Analysis \n"
      ]
    },
    {
      "cell_type": "markdown",
      "metadata": {
        "id": "P73Xquh-Fg4u"
      },
      "source": [
        "#### Descriptive Statistics"
      ]
    },
    {
      "cell_type": "code",
      "source": [
        "start_date = '2017-01-01'\n",
        "end_date = '2021-11-30'\n",
        "ticker = 'Z74.SI'\n",
        "stock = yf.download(ticker,start=start_date, end=end_date)\n",
        "\n",
        "stock.Close.describe()"
      ],
      "metadata": {
        "id": "XIMybfhaIff0"
      },
      "execution_count": null,
      "outputs": []
    },
    {
      "cell_type": "markdown",
      "source": [
        "#### DataFrame.count()\n",
        "\n",
        "This method returns the number of non-null observations over the requested observations."
      ],
      "metadata": {
        "id": "E_-hKUzkI1TY"
      }
    },
    {
      "cell_type": "code",
      "source": [
        "stock.count()"
      ],
      "metadata": {
        "id": "J-SvH6TDIkMD"
      },
      "execution_count": null,
      "outputs": []
    },
    {
      "cell_type": "markdown",
      "source": [
        "#### DataFrame.min()\n",
        "\n",
        "This method returns the minimum value over the requested observations"
      ],
      "metadata": {
        "id": "bUCPBnUEJFkt"
      }
    },
    {
      "cell_type": "code",
      "metadata": {
        "id": "uvqm6j8zCSgD"
      },
      "source": [
        "stock.min()"
      ],
      "execution_count": null,
      "outputs": []
    },
    {
      "cell_type": "markdown",
      "source": [
        "#### DataFrame.max()\n",
        "\n",
        "This method returns the maximum value over the requested observations."
      ],
      "metadata": {
        "id": "GIYRrh4aJZ81"
      }
    },
    {
      "cell_type": "code",
      "metadata": {
        "id": "Ie8PE1CoDC1o"
      },
      "source": [
        "stock.max()"
      ],
      "execution_count": null,
      "outputs": []
    },
    {
      "cell_type": "markdown",
      "source": [
        "#### DataFrame.mean()\n",
        "\n",
        "The mean of a set of observations is the arithmetic average of the values. \n",
        "\n",
        "This method returns the mean of the requested observations."
      ],
      "metadata": {
        "id": "z5UlMjwLJpMd"
      }
    },
    {
      "cell_type": "code",
      "source": [
        "stock.mean()"
      ],
      "metadata": {
        "id": "r7zaa4NrJqU_"
      },
      "execution_count": null,
      "outputs": []
    },
    {
      "cell_type": "markdown",
      "source": [
        "#### DataFrame.median()\n",
        "\n",
        "The median is a statistical measure that determines the middle value of a dataset listed in ascending order.\n",
        "\n",
        "This method returns the median of the requested observations."
      ],
      "metadata": {
        "id": "_MuB-2baJ1uW"
      }
    },
    {
      "cell_type": "code",
      "source": [
        "stock.median()"
      ],
      "metadata": {
        "id": "AmWk1KvsJ2nc"
      },
      "execution_count": null,
      "outputs": []
    },
    {
      "cell_type": "markdown",
      "source": [
        "#### DataFrame.mode()\n",
        "\n",
        "The mode is the value that appears most frequently in a data set. \n",
        "\n",
        "This method returns the mode of the requested observations."
      ],
      "metadata": {
        "id": "hPJ4uldTKB8C"
      }
    },
    {
      "cell_type": "code",
      "source": [
        "stock.mode()"
      ],
      "metadata": {
        "id": "PjiDa87tKDjR"
      },
      "execution_count": null,
      "outputs": []
    },
    {
      "cell_type": "markdown",
      "source": [
        "#### DataFrame.sum()\n",
        "\n",
        "This method returns the sum of all the values of the requested observations."
      ],
      "metadata": {
        "id": "3nzNVf3xKNF5"
      }
    },
    {
      "cell_type": "code",
      "source": [
        "stock.sum()"
      ],
      "metadata": {
        "id": "Kfc6dn71KOZY"
      },
      "execution_count": null,
      "outputs": []
    },
    {
      "cell_type": "markdown",
      "source": [
        "#### DataFrame.diff()\n",
        "\n",
        "This method returns the 'difference' between the current observation and the previous observation."
      ],
      "metadata": {
        "id": "5P0Imo6BKapL"
      }
    },
    {
      "cell_type": "code",
      "source": [
        "stock.diff()"
      ],
      "metadata": {
        "id": "GLI-ehD-KbkB"
      },
      "execution_count": null,
      "outputs": []
    },
    {
      "cell_type": "markdown",
      "source": [
        "#### DataFrame.pct_change()]\n",
        "\n",
        "This method returns the percentage change of the current observation with the previous observation."
      ],
      "metadata": {
        "id": "Z94pK1K9Kg3E"
      }
    },
    {
      "cell_type": "code",
      "source": [
        "stock.pct_change()"
      ],
      "metadata": {
        "id": "FFExQy3aKhyb"
      },
      "execution_count": null,
      "outputs": []
    },
    {
      "cell_type": "markdown",
      "source": [
        "#### DataFrame.var()\n",
        "\n",
        "Variance is a statistical measurement of the spread between numbers in a data set.\n",
        "\n",
        "This method returns the variance of the requested observations."
      ],
      "metadata": {
        "id": "WiWkP1OaKpVk"
      }
    },
    {
      "cell_type": "code",
      "source": [
        "stock.var()"
      ],
      "metadata": {
        "id": "Cyn2zjWXKqiP"
      },
      "execution_count": null,
      "outputs": []
    },
    {
      "cell_type": "markdown",
      "source": [
        "#### DataFrame.std()\n",
        "\n",
        "Standard deviation is a statistical measure that measures the dispersion of a dataset relative to its mean.\n",
        "\n",
        "\n",
        "This method returns the standard deviation of the requested observations."
      ],
      "metadata": {
        "id": "DftRYv8nKvMQ"
      }
    },
    {
      "cell_type": "code",
      "source": [
        "stock.std()"
      ],
      "metadata": {
        "id": "mRtD9gd4KwCm"
      },
      "execution_count": null,
      "outputs": []
    },
    {
      "cell_type": "markdown",
      "source": [
        "#### DataFrame.rolling(window=).mean()\n",
        "\n",
        "A moving average(also known as rolling average) is a calculation used to analyze data points by creating a series of averages of different subsets of the full data set. It is commonly used as a technical indicator.\n",
        "\n",
        "This method helps us to calculate the moving average of the observations."
      ],
      "metadata": {
        "id": "A_zOk6ZdK0jS"
      }
    },
    {
      "cell_type": "code",
      "source": [
        "import matplotlib.pyplot as plt\n",
        "plt.figure(figsize=(10, 5))\n",
        "\n",
        "stock[\"Close\"].rolling(window=20).mean().plot()\n",
        "stock[\"Close\"].plot()\n",
        "\n",
        "plt.ylabel('Closing Price')\n",
        "plt.show()"
      ],
      "metadata": {
        "id": "In6-Y11xK21T"
      },
      "execution_count": null,
      "outputs": []
    },
    {
      "cell_type": "markdown",
      "source": [
        "#### DataFrame.expanding(min_periods=).mean()\n",
        "\n",
        "This method returns the 'expanding' mean of the requested observations.\n",
        "\n",
        "A common alternative to rolling mean is to use an expanding window mean, which returns the value of the mean with <b>all the observations avaliable up to that point in time.</b>"
      ],
      "metadata": {
        "id": "tY7jUjafLh6I"
      }
    },
    {
      "cell_type": "code",
      "metadata": {
        "id": "epDcrdFJdZ49"
      },
      "source": [
        "stock[\"Close\"].expanding(min_periods=20).mean()"
      ],
      "execution_count": null,
      "outputs": []
    },
    {
      "cell_type": "code",
      "metadata": {
        "id": "97jOK_x5DjP9"
      },
      "source": [
        "import matplotlib.pyplot as plt\n",
        "plt.figure(figsize=(10, 5))\n",
        "\n",
        "stock[\"Close\"].expanding(min_periods=20).mean().plot()\n",
        "stock[\"Close\"].plot()\n",
        "\n",
        "plt.ylabel('Closing Price')\n",
        "\n",
        "plt.show()"
      ],
      "execution_count": null,
      "outputs": []
    },
    {
      "cell_type": "markdown",
      "metadata": {
        "id": "-B9V_ginGSC8"
      },
      "source": [
        "#### Activitiy: Rolling Window Average\n",
        "\n",
        "- Import the Singtel stock close data from Yahoo from 2017 to 2021\n",
        "- Overlay the raw data, rolling window, expanding window\n"
      ]
    },
    {
      "cell_type": "code",
      "source": [
        "start_date = '2017-01-01'\n",
        "end_date = '2021-11-30'\n",
        "ticker = 'D05.SI'\n",
        "dbs = yf.download(ticker,start=start_date, end=end_date)"
      ],
      "metadata": {
        "id": "KuF6B83px3QD"
      },
      "execution_count": null,
      "outputs": []
    },
    {
      "cell_type": "code",
      "metadata": {
        "id": "a-hemZw3FfeM"
      },
      "source": [
        "plt.figure(figsize=(10,5))\n",
        "dbs['Close'].plot()\n",
        "dbs['Close']._____________________________\n",
        "dbs['Close'].________________________\n",
        "plt.show()"
      ],
      "execution_count": null,
      "outputs": []
    },
    {
      "cell_type": "markdown",
      "source": [
        "#### Solution: Rolling Window Average"
      ],
      "metadata": {
        "id": "Eqw9yb4MyH5v"
      }
    },
    {
      "cell_type": "code",
      "source": [
        "start_date = '2017-01-01'\n",
        "end_date = '2021-11-30'\n",
        "ticker = 'D05.SI'\n",
        "dbs = yf.download(ticker,start=start_date, end=end_date)"
      ],
      "metadata": {
        "id": "eXDD9CIlyBZV"
      },
      "execution_count": null,
      "outputs": []
    },
    {
      "cell_type": "code",
      "source": [
        "plt.figure(figsize=(10,5))\n",
        "dbs['Close'].plot()\n",
        "dbs['Close'].rolling(window=20).mean().plot()\n",
        "dbs['Close'].expanding(min_periods=10).mean().plot()\n",
        "plt.show()"
      ],
      "metadata": {
        "id": "upDGSVneyFqp"
      },
      "execution_count": null,
      "outputs": []
    },
    {
      "cell_type": "markdown",
      "metadata": {
        "id": "MEt4jzoeA_Rf"
      },
      "source": [
        "#### DataFrame.cov()\n",
        "\n",
        "Covariance is a statistical measure that is used to determine the relationship between the movement of two asset prices.\n",
        "\n",
        "This method returns the covariance between the closing price of the DBS stock with the closing price of the UOB stock."
      ]
    },
    {
      "cell_type": "code",
      "metadata": {
        "id": "mBFHvjNKA3KH"
      },
      "source": [
        "start_date = '2017-01-01'\n",
        "end_date = '2021-11-30'\n",
        "ticker = 'D05.SI'\n",
        "dbs = yf.download(ticker,start=start_date, end=end_date)"
      ],
      "execution_count": null,
      "outputs": []
    },
    {
      "cell_type": "code",
      "metadata": {
        "id": "xB6udGwrA6dF"
      },
      "source": [
        "start_date = '2017-01-01'\n",
        "end_date = '2021-11-30'\n",
        "ticker = 'U11.SI'\n",
        "uob = yf.download(ticker,start=start_date, end=end_date)"
      ],
      "execution_count": null,
      "outputs": []
    },
    {
      "cell_type": "code",
      "source": [
        "dbs[\"Close\"].cov(uob[\"Close\"])"
      ],
      "metadata": {
        "id": "Q_DsR7ZYMpUI"
      },
      "execution_count": null,
      "outputs": []
    },
    {
      "cell_type": "markdown",
      "source": [
        "#### DataFrame.corr()\n",
        "\n",
        "Correlation is a statistical measure that expresses the extent to which two variables are linearly related.\n",
        "\n",
        "This method returns the correlation between the closing price of the DBS stock with the closing price of the UOB stock."
      ],
      "metadata": {
        "id": "G9lOx_jZNG4J"
      }
    },
    {
      "cell_type": "code",
      "source": [
        "dbs[\"Close\"].corr(uob[\"Close\"])"
      ],
      "metadata": {
        "id": "FJdBTeu5NJuo"
      },
      "execution_count": null,
      "outputs": []
    },
    {
      "cell_type": "markdown",
      "source": [
        "#### Activity: Covariance and Correlation\n",
        "\n",
        "- Import the DBS and Singtel stock close data from Yahoo from 2017 to 2021\n",
        "- Compute the covariance and correlation between DBS and Singtel stock closing price"
      ],
      "metadata": {
        "id": "0nCcQEKuzo8x"
      }
    },
    {
      "cell_type": "code",
      "source": [
        "start_date = '2017-01-01'\n",
        "end_date = '2021-11-30'\n",
        "ticker = 'D05.SI'\n",
        "dbs = yf.download(ticker,start=start_date, end=end_date)"
      ],
      "metadata": {
        "id": "L-8vQbuyzZg5"
      },
      "execution_count": null,
      "outputs": []
    },
    {
      "cell_type": "code",
      "source": [
        "start_date = '2017-01-01'\n",
        "end_date = '2021-11-30'\n",
        "ticker = 'Z74.SI'\n",
        "singtel = yf.download(ticker,start=start_date, end=end_date)"
      ],
      "metadata": {
        "id": "B43ShdW_zuAY"
      },
      "execution_count": null,
      "outputs": []
    },
    {
      "cell_type": "code",
      "source": [
        "dbs[\"Close\"]._______________________"
      ],
      "metadata": {
        "id": "8WyDdsILz3y5"
      },
      "execution_count": null,
      "outputs": []
    },
    {
      "cell_type": "code",
      "source": [
        "dbs[\"Close\"].____________________"
      ],
      "metadata": {
        "id": "XGN9do5az59R"
      },
      "execution_count": null,
      "outputs": []
    },
    {
      "cell_type": "markdown",
      "source": [
        "#### Solution: Covariance and Correlation"
      ],
      "metadata": {
        "id": "BdaHiDyA0GHp"
      }
    },
    {
      "cell_type": "code",
      "source": [
        "dbs[\"Close\"].cov(singtel[\"Close\"])"
      ],
      "metadata": {
        "id": "sMA1dHT1z_bZ"
      },
      "execution_count": null,
      "outputs": []
    },
    {
      "cell_type": "code",
      "source": [
        "dbs[\"Close\"].corr(singtel[\"Close\"])"
      ],
      "metadata": {
        "id": "s6K1HJHS0DEO"
      },
      "execution_count": null,
      "outputs": []
    },
    {
      "cell_type": "markdown",
      "source": [
        "#### DataFrame.kurt()\n",
        "\n",
        "Kurtosis is a statistical measure that defines how heavily the tails of a distribution differ from the tails of a normal distribution.\n",
        "\n",
        "This method returns unbiased kurtosis over the requested data set using Fisher's definition of kurtosis (where kurtosis of normal distribution = 0)"
      ],
      "metadata": {
        "id": "TAJ-8rY2Nxi5"
      }
    },
    {
      "cell_type": "markdown",
      "source": [
        "A negative kurtosis value indicates a platykurtic distribution. Such a distribution will have thinner tails, resulting in fewer extreme positive or negative events."
      ],
      "metadata": {
        "id": "LgN-flq4N7sU"
      }
    },
    {
      "cell_type": "code",
      "source": [
        "dbs[\"Close\"].kurt()"
      ],
      "metadata": {
        "id": "o-iztmWFNzIh"
      },
      "execution_count": null,
      "outputs": []
    },
    {
      "cell_type": "markdown",
      "source": [
        "#### DataFrame.skew()\n",
        "\n",
        "In statistics, skewness is a measure of the asymmetry of the distribution of a variable about its mean.\n",
        "\n",
        "This method unbiased skew over the requested data set."
      ],
      "metadata": {
        "id": "O8K7yxUTN-Tr"
      }
    },
    {
      "cell_type": "code",
      "source": [
        "dbs[\"Close\"].skew()"
      ],
      "metadata": {
        "id": "ELE3IPxcOAjv"
      },
      "execution_count": null,
      "outputs": []
    },
    {
      "cell_type": "markdown",
      "metadata": {
        "id": "WpK7XPfuZJs-"
      },
      "source": [
        "## Topic 2.5 Advanced Data Analytics"
      ]
    },
    {
      "cell_type": "markdown",
      "metadata": {
        "id": "DdggqdNXIp0x"
      },
      "source": [
        "### Pipe"
      ]
    },
    {
      "cell_type": "code",
      "source": [
        "start_date = '2017-01-01'\n",
        "end_date = '2019-12-31'\n",
        "ticker = 'D05.SI'\n",
        "dbs = yf.download(ticker,start=start_date, end=end_date)\n",
        "dbs"
      ],
      "metadata": {
        "id": "FpUnwiN9P_Ma"
      },
      "execution_count": null,
      "outputs": []
    },
    {
      "cell_type": "code",
      "source": [
        "dbs.loc['2019-01-01':'2019-12-30']"
      ],
      "metadata": {
        "id": "mwNXx2trQB9i"
      },
      "execution_count": null,
      "outputs": []
    },
    {
      "cell_type": "code",
      "source": [
        "def load_data(ticker, start_date,end_date):\n",
        "    return yf.download(ticker,start=start_date, end=end_date)\n",
        "    "
      ],
      "metadata": {
        "id": "i5yk6a7BN1di"
      },
      "execution_count": null,
      "outputs": []
    },
    {
      "cell_type": "code",
      "source": [
        "dbs = load_data('D05.SI','2021-01-01','2021-11-30')\n",
        "dbs"
      ],
      "metadata": {
        "id": "XYjveuWIRppl"
      },
      "execution_count": null,
      "outputs": []
    },
    {
      "cell_type": "code",
      "source": [
        "def filter_data(df):\n",
        "    start = '2021-01-01'\n",
        "    end = '2021-06-01'\n",
        "    return df.loc[start:end]"
      ],
      "metadata": {
        "id": "mHP0gmC0O3g4"
      },
      "execution_count": null,
      "outputs": []
    },
    {
      "cell_type": "code",
      "source": [
        "dbs_filtered = filter_data(dbs)\n",
        "dbs_filtered"
      ],
      "metadata": {
        "id": "rWFobc76SWxH"
      },
      "execution_count": null,
      "outputs": []
    },
    {
      "cell_type": "code",
      "source": [
        "def plotbar(df):\n",
        "    df['Close'].plot()\n",
        "    plt.xlabel('Days')\n",
        "    plt.ylabel('Price')"
      ],
      "metadata": {
        "id": "PCVVmPHoObFj"
      },
      "execution_count": null,
      "outputs": []
    },
    {
      "cell_type": "code",
      "source": [
        "plotbar(dbs_filtered)"
      ],
      "metadata": {
        "id": "Bl5-1qlmSkE7"
      },
      "execution_count": null,
      "outputs": []
    },
    {
      "cell_type": "code",
      "source": [
        "dbs_pipe =(\n",
        "    load_data('D05.SI','2021-01-01','2021-11-30')\n",
        "    .pipe(filter_data)\n",
        "    .pipe(plotbar)\n",
        ")\n"
      ],
      "metadata": {
        "id": "aSWhCMQZOjLY"
      },
      "execution_count": null,
      "outputs": []
    },
    {
      "cell_type": "markdown",
      "metadata": {
        "id": "RQbQYM3-LBXi"
      },
      "source": [
        "#### Activity: Pipe\n",
        "\n",
        "- Create a pipe to load the UOB stock data from Yahoo Finance\n",
        "- Filter only the Open and Close data\n",
        "- Plot the Open and Close data\n"
      ]
    },
    {
      "cell_type": "code",
      "source": [
        "def load_data(ticker, start_date,end_date):\n",
        "    _____________________\n",
        "    return stock"
      ],
      "metadata": {
        "id": "WvLV5fRUXI4d"
      },
      "execution_count": null,
      "outputs": []
    },
    {
      "cell_type": "code",
      "source": [
        "def plotbar(df):\n",
        "    __________________"
      ],
      "metadata": {
        "id": "XXDJb--jXPCW"
      },
      "execution_count": null,
      "outputs": []
    },
    {
      "cell_type": "code",
      "source": [
        "uob_pipe =(\n",
        "    ____________________\n",
        ")"
      ],
      "metadata": {
        "id": "297R-IB7XS-P"
      },
      "execution_count": null,
      "outputs": []
    },
    {
      "cell_type": "markdown",
      "source": [
        "#### Solutoin: Pipe"
      ],
      "metadata": {
        "id": "JPas0fgMXKQo"
      }
    },
    {
      "cell_type": "code",
      "metadata": {
        "id": "UyD7LWyPJ-J2"
      },
      "source": [
        "def load_data(ticker, start_date,end_date):\n",
        "    stock = yf.download(ticker,start=start_date, end=end_date)\n",
        "    stock = stock[['Open','Close']]\n",
        "    return stock\n",
        "    "
      ],
      "execution_count": null,
      "outputs": []
    },
    {
      "cell_type": "code",
      "metadata": {
        "id": "MtPATB8JKFg8"
      },
      "source": [
        "def plotbar(df):\n",
        "    df.plot()\n",
        "    plt.xlabel('Days')\n",
        "    plt.ylabel('Price')"
      ],
      "execution_count": null,
      "outputs": []
    },
    {
      "cell_type": "code",
      "metadata": {
        "id": "o1kWNSu-K1nJ"
      },
      "source": [
        "uob_pipe =(\n",
        "    load_data('U11.SI','2019-01-01','2021-11-30')\n",
        "    .pipe(plotbar)\n",
        ")"
      ],
      "execution_count": null,
      "outputs": []
    },
    {
      "cell_type": "markdown",
      "metadata": {
        "id": "QODt9EwcIe17"
      },
      "source": [
        "### Apply"
      ]
    },
    {
      "cell_type": "code",
      "metadata": {
        "id": "IE8SCm6BGC0V"
      },
      "source": [
        "df = pd.DataFrame([[9, 25]] * 3, columns=['P', 'Q'])\n",
        "df"
      ],
      "execution_count": null,
      "outputs": []
    },
    {
      "cell_type": "code",
      "metadata": {
        "id": "WlSenEFCGLZu"
      },
      "source": [
        "df.apply(np.sqrt)"
      ],
      "execution_count": null,
      "outputs": []
    },
    {
      "cell_type": "code",
      "metadata": {
        "id": "pM576cf-f8vC"
      },
      "source": [
        "stock_list = ['DBS','Haw Par','Jardine C&C','OCBC','SGX','Singtel','ST Engineering',\\\n",
        "              'Thai Beverage','UOB','Venture','Wilmar','YZJ Shipbldg']\n",
        "sector = ['Finance','Healthcare','Transport','Finance','Finance','Technology','Technology',\\\n",
        "              'Food','Finance','Finance','Food','Transport']\n",
        "dividend = ['Yes','No','No','Yes','No','Yes','No',\\\n",
        "              'Yes','No','No','No','Yes']            \n",
        "stock_qty = [300,100,200,800,300,3000,1000,1000,300,100,1000,1000]\n",
        "avg_price=[31.23,11.50,20.95,11.39,9.07,2.38,3.78,0.66,26.61,18.68,4.15,1.30]\n",
        "mkt_cap =[82.54,2.52,8.39,51.24,10.11,40.29,11.80,16.70,45.14,5.49,26.76,5.20]\n",
        "\n",
        "my_portfolio = {\n",
        "    \"quantity_owned\": stock_qty,\n",
        "    \"average_buy_price\": avg_price,\n",
        "    'market_cap':mkt_cap,\n",
        "    'sector':sector,\n",
        "    'dividend':dividend\n",
        "}\n",
        "\n",
        "my_portfolio_df = pd.DataFrame(my_portfolio,columns=[\"average_buy_price\",\"quantity_owned\",\"market_cap\",\"sector\",\"dividend\"],index=stock_list)\n",
        "my_portfolio_df"
      ],
      "execution_count": null,
      "outputs": []
    },
    {
      "cell_type": "code",
      "metadata": {
        "id": "n1YhVsaDf-YV"
      },
      "source": [
        "SGD2USD = 1.4\n",
        "my_portfolio_df['average_buy_price'] = my_portfolio_df['average_buy_price'].apply(lambda x:x/SGD2USD)\n",
        "my_portfolio_df"
      ],
      "execution_count": null,
      "outputs": []
    },
    {
      "cell_type": "markdown",
      "metadata": {
        "id": "viSiaJyLnzQ3"
      },
      "source": [
        "#### Activity: Apply\n",
        "\n",
        "Use apply to create a new column in the dataframe - total_investment = stock price*stock quantity"
      ]
    },
    {
      "cell_type": "code",
      "metadata": {
        "id": "U3MVhK0tmm48"
      },
      "source": [
        "my_portfolio_df['total_investment'] = _______________________________\n",
        "my_portfolio_df"
      ],
      "execution_count": null,
      "outputs": []
    },
    {
      "cell_type": "markdown",
      "source": [
        "#### Solution: Apply"
      ],
      "metadata": {
        "id": "ysAGLWrd4VKe"
      }
    },
    {
      "cell_type": "code",
      "source": [
        "my_portfolio_df['total_investment'] = my_portfolio_df.apply(lambda x:x.average_buy_price*x.quantity_owned, axis=1)\n",
        "my_portfolio_df"
      ],
      "metadata": {
        "id": "IJxY4EtZ4PvT"
      },
      "execution_count": null,
      "outputs": []
    }
  ]
}